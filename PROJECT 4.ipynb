{
 "cells": [
  {
   "cell_type": "code",
   "outputs": [
    {
     "name": "stdout",
     "output_type": "stream",
     "text": [
      "CSV file 'mushroom_data.csv' created successfully.\n"
     ]
    }
   ],
   "source": [
    "import pandas as pd\n",
    "\n",
    "# Sample mushroom data\n",
    "data = {\n",
    "    'odor': ['a', 'l', 'c', 'y', 'f'],\n",
    "    'cap-color': ['brown', 'yellow', 'white', 'brown', 'brown'],\n",
    "    'class': ['poisonous', 'edible', 'edible', 'poisonous', 'edible']\n",
    "}\n",
    "\n",
    "# Create DataFrame\n",
    "mushroom_data = pd.DataFrame(data)\n",
    "\n",
    "# Save DataFrame to CSV file\n",
    "mushroom_data.to_csv('mushroom_data.csv', index=False)\n",
    "\n",
    "print(\"CSV file 'mushroom_data.csv' created successfully.\")\n"
   ],
   "metadata": {
    "collapsed": false,
    "ExecuteTime": {
     "end_time": "2024-04-06T00:38:23.686632Z",
     "start_time": "2024-04-06T00:38:23.674001Z"
    }
   },
   "id": "a45795ac25eed2a3",
   "execution_count": 3
  },
  {
   "cell_type": "code",
   "outputs": [
    {
     "name": "stdout",
     "output_type": "stream",
     "text": [
      "  odor cap-color      class\n",
      "0    a     brown  poisonous\n",
      "1    l    yellow     edible\n",
      "2    c     white     edible\n",
      "3    y     brown  poisonous\n",
      "4    f     brown     edible\n",
      "Accuracy: 0.0\n",
      "Feature Importances: [0.16343669 0.13630491 0.33139535 0.         0.20090439 0.06524548\n",
      " 0.10271318 0.        ]\n"
     ]
    }
   ],
   "source": [
    "import pandas as pd\n",
    "from sklearn.model_selection import train_test_split\n",
    "from sklearn.preprocessing import OneHotEncoder\n",
    "from sklearn.ensemble import RandomForestClassifier\n",
    "from sklearn.metrics import accuracy_score\n",
    "\n",
    "# Load data\n",
    "mushroom_data = pd.read_csv('mushroom_data.csv')\n",
    "\n",
    "# Display first few rows of the dataset\n",
    "print(mushroom_data.head())\n",
    "\n",
    "# Choose predictor columns (odor and one other column of your choice)\n",
    "predictor_columns = ['odor', 'cap-color']  # Example, you can choose different columns\n",
    "\n",
    "# Convert categorical variables into numerical format using one-hot encoding\n",
    "mushroom_data_encoded = pd.get_dummies(mushroom_data[predictor_columns])\n",
    "\n",
    "# Target variable\n",
    "target = mushroom_data['class']\n",
    "\n",
    "# Split data into training and testing sets\n",
    "X_train, X_test, y_train, y_test = train_test_split(mushroom_data_encoded, target, test_size=0.2, random_state=42)\n",
    "\n",
    "# Model building (using Random Forest Classifier as an example)\n",
    "model = RandomForestClassifier()\n",
    "model.fit(X_train, y_train)\n",
    "\n",
    "# Make predictions\n",
    "y_pred = model.predict(X_test)\n",
    "\n",
    "# Evaluate model\n",
    "accuracy = accuracy_score(y_test, y_pred)\n",
    "print(\"Accuracy:\", accuracy)\n",
    "\n",
    "# Feature importances\n",
    "feature_importances = model.feature_importances_\n",
    "print(\"Feature Importances:\", feature_importances)\n",
    "\n",
    "# Conclusion\n",
    "# Based on the accuracy and feature importances, draw conclusions about which predictor columns are most important for predicting whether a mushroom is poisonous or not.\n",
    "# Further analysis could involve trying different classifiers, tuning hyperparameters, or exploring other features in the dataset.\n",
    "\n"
   ],
   "metadata": {
    "collapsed": false,
    "ExecuteTime": {
     "end_time": "2024-04-06T00:38:33.398475Z",
     "start_time": "2024-04-06T00:38:33.098466Z"
    }
   },
   "id": "af5560578e9bc061",
   "execution_count": 4
  },
  {
   "cell_type": "code",
   "outputs": [],
   "source": [],
   "metadata": {
    "collapsed": false
   },
   "id": "32a5c72b2d7ceedd"
  }
 ],
 "metadata": {
  "kernelspec": {
   "display_name": "Python 3",
   "language": "python",
   "name": "python3"
  },
  "language_info": {
   "codemirror_mode": {
    "name": "ipython",
    "version": 2
   },
   "file_extension": ".py",
   "mimetype": "text/x-python",
   "name": "python",
   "nbconvert_exporter": "python",
   "pygments_lexer": "ipython2",
   "version": "2.7.6"
  }
 },
 "nbformat": 4,
 "nbformat_minor": 5
}
